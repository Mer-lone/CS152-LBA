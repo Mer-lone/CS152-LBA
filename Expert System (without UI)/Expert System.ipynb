{
 "cells": [
  {
   "cell_type": "code",
   "execution_count": 22,
   "id": "a5e87a1d",
   "metadata": {},
   "outputs": [
    {
     "name": "stdout",
     "output_type": "stream",
     "text": [
      "Your problem is unknown.\n"
     ]
    }
   ],
   "source": [
    "from pyswip.prolog import Prolog\n",
    "from pyswip.easy import *\n",
    "\n",
    "prolog = Prolog() # Global handle to interpreter\n",
    "\n",
    "retractall = Functor(\"retractall\")\n",
    "known = Functor(\"known\",3)\n",
    "\n",
    "\n",
    "# Define foreign functions for getting user input and writing to the screen\n",
    "def write_py(X):\n",
    "    print(str(X))\n",
    "    sys.stdout.flush()\n",
    "    return True\n",
    "\n",
    "#adding options to allow users to choose\n",
    "\n",
    "def read_py(A,V,Y):\n",
    "    ans = None\n",
    "    if isinstance(V, Variable):\n",
    "        #converting the query to natural language\n",
    "        \n",
    "        if str(A) == 'max_time':\n",
    "            ans = \"What is your ideal cooking time (in minutes)?\"\n",
    "        if str(A) == 'max_calories':\n",
    "            ans = \"What is your expected calorie limit?\"\n",
    "        if str(A) == 'cuisine':\n",
    "            ans = \"What is your preferred cuisine?\"\n",
    "        if str(A) == 'dishType':\n",
    "            ans = \"What dish type are you looking to make?\"\n",
    "        if str(A) == 'diet':\n",
    "            ans = \"Do you have a dietary prefrence?\"\n",
    "        if str(A) == 'max_price':\n",
    "            ans = \"What is your budget?\"\n",
    "\n",
    "\n",
    "        response = input(ans)\n",
    "        V.unify(Atom(response))\n",
    "        Y.unify(Atom(\"yes\"))\n",
    "        return True\n",
    "    elif isinstance(Y, Variable):\n",
    "        # if str(A) == 'search' and str(V) == 'ingredients':\n",
    "        #     response = input('Do you want to' + str(A) + 'by' + str(V))\n",
    "\n",
    "        # elif str(A) == 'search' and str(V) == 'type':\n",
    "        #     response = input('Do you want to' + str(A) + 'by' + str(V) +' instead?' )\n",
    "\n",
    "        #Converting this to natural language\n",
    "\n",
    "        response = input(\"Do you want to \" + str(A) + \" by \" + str(V) + \"? \")\n",
    "        Y.unify(Atom(response))\n",
    "        \n",
    "        return True\n",
    "    else:\n",
    "        return False\n",
    "\n",
    "write_py.arity = 1\n",
    "read_py.arity = 3\n",
    "\n",
    "registerForeign(read_py)\n",
    "registerForeign(write_py)\n",
    "\n",
    "prolog.consult(\"KB.pl\") # open the KB for consulting\n",
    "\n",
    "call(retractall(known))\n",
    "recipe = [s for s in prolog.query(\"recipe(Id,Title,Url).\")]\n",
    "print(\"Your problem is \" + (recipe[0][''] + \".\" if recipe else \"unknown.\"))"
   ]
  },
  {
   "cell_type": "code",
   "execution_count": 23,
   "id": "0cef885d",
   "metadata": {},
   "outputs": [
    {
     "data": {
      "text/plain": [
       "[]"
      ]
     },
     "execution_count": 23,
     "metadata": {},
     "output_type": "execute_result"
    }
   ],
   "source": [
    "recipe"
   ]
  }
 ],
 "metadata": {
  "kernelspec": {
   "display_name": "Python 3",
   "language": "python",
   "name": "python3"
  },
  "language_info": {
   "codemirror_mode": {
    "name": "ipython",
    "version": 3
   },
   "file_extension": ".py",
   "mimetype": "text/x-python",
   "name": "python",
   "nbconvert_exporter": "python",
   "pygments_lexer": "ipython3",
   "version": "3.10.2"
  }
 },
 "nbformat": 4,
 "nbformat_minor": 5
}
