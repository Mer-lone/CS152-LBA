{
 "cells": [
  {
   "cell_type": "code",
   "execution_count": 5,
   "id": "3b3269ba",
   "metadata": {},
   "outputs": [],
   "source": [
    "import pandas as pd\n",
    "\n",
    "recipes_df = pd.read_csv(\"recipes.csv\")"
   ]
  },
  {
   "cell_type": "code",
   "execution_count": 6,
   "id": "431aaf71",
   "metadata": {},
   "outputs": [],
   "source": [
    "recipes_df[\"ingredients_names\"] = recipes_df[\"ingredients_names\"].apply(eval)\n",
    "recipes_df[\"diets\"] = recipes_df[\"diets\"].apply(eval)\n",
    "recipes_df[\"cuisines\"] = recipes_df[\"cuisines\"].apply(eval)\n",
    "recipes_df[\"dishTypes\"] = recipes_df[\"dishTypes\"].apply(eval)\n",
    "\n",
    "# ingredients - ingredients_names\n",
    "ingredients = ['none']\n",
    "\n",
    "# diets - none\n",
    "diets = ['none']\n",
    "\n",
    "# cuisines - none\n",
    "cuisines = ['none']\n",
    "\n",
    "# dishTypes - none\n",
    "dishTypes = ['none']\n",
    "\n",
    "for index, row in recipes_df.iterrows():\n",
    "    ingredients.extend(row['ingredients_names'])\n",
    "    diets.extend(row['diets'])\n",
    "    cuisines.extend(row['cuisines'])\n",
    "    dishTypes.extend(row['dishTypes'])\n",
    "    \n",
    "ingredients = set(ingredients)\n",
    "diets = set(diets)\n",
    "cuisines = set(cuisines)\n",
    "dishTypes = set(dishTypes)"
   ]
  },
  {
   "cell_type": "code",
   "execution_count": 7,
   "id": "ee7599d8",
   "metadata": {},
   "outputs": [
    {
     "data": {
      "text/plain": [
       "1704"
      ]
     },
     "execution_count": 7,
     "metadata": {},
     "output_type": "execute_result"
    }
   ],
   "source": [
    "len(ingredients)"
   ]
  },
  {
   "cell_type": "code",
   "execution_count": 8,
   "id": "fabe9c81",
   "metadata": {},
   "outputs": [
    {
     "data": {
      "text/plain": [
       "6"
      ]
     },
     "execution_count": 8,
     "metadata": {},
     "output_type": "execute_result"
    }
   ],
   "source": [
    "len(diets)"
   ]
  },
  {
   "cell_type": "code",
   "execution_count": 9,
   "id": "fb39c936",
   "metadata": {},
   "outputs": [
    {
     "data": {
      "text/plain": [
       "32"
      ]
     },
     "execution_count": 9,
     "metadata": {},
     "output_type": "execute_result"
    }
   ],
   "source": [
    "len(cuisines)"
   ]
  },
  {
   "cell_type": "code",
   "execution_count": 10,
   "id": "98b9e217",
   "metadata": {},
   "outputs": [
    {
     "data": {
      "text/plain": [
       "30"
      ]
     },
     "execution_count": 10,
     "metadata": {},
     "output_type": "execute_result"
    }
   ],
   "source": [
    "len(dishTypes)"
   ]
  }
 ],
 "metadata": {
  "kernelspec": {
   "display_name": "Python 3 (ipykernel)",
   "language": "python",
   "name": "python3"
  },
  "language_info": {
   "codemirror_mode": {
    "name": "ipython",
    "version": 3
   },
   "file_extension": ".py",
   "mimetype": "text/x-python",
   "name": "python",
   "nbconvert_exporter": "python",
   "pygments_lexer": "ipython3",
   "version": "3.9.7"
  }
 },
 "nbformat": 4,
 "nbformat_minor": 5
}
