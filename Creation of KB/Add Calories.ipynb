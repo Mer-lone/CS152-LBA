{
 "cells": [
  {
   "cell_type": "code",
   "execution_count": 41,
   "id": "4131fe7c",
   "metadata": {},
   "outputs": [],
   "source": [
    "import pandas as pd\n",
    "import requests\n",
    "from bs4 import BeautifulSoup\n",
    "import re"
   ]
  },
  {
   "cell_type": "code",
   "execution_count": 42,
   "id": "88a2674f",
   "metadata": {},
   "outputs": [
    {
     "name": "stderr",
     "output_type": "stream",
     "text": [
      "Some characters could not be decoded, and were replaced with REPLACEMENT CHARACTER.\n",
      "Some characters could not be decoded, and were replaced with REPLACEMENT CHARACTER.\n"
     ]
    }
   ],
   "source": [
    "df_recipes = pd.read_csv(\"new_perfect_recipes.csv\")\n",
    "\n",
    "calories = []\n",
    "\n",
    "for index, row in df_recipes.iterrows():\n",
    "    page = requests.get(row['url'])\n",
    "    soup = BeautifulSoup(page.content, \"html.parser\")\n",
    "    \n",
    "    for elem in soup(text=re.compile(r' calories')):\n",
    "        value = elem.parent.text[:-9]\n",
    "        break\n",
    "    if value:\n",
    "        calories.append(value)\n",
    "    else:\n",
    "        calories.append(None)"
   ]
  },
  {
   "cell_type": "code",
   "execution_count": 43,
   "id": "b2f64005",
   "metadata": {},
   "outputs": [],
   "source": [
    "df_recipes[\"calories\"] = calories"
   ]
  },
  {
   "cell_type": "code",
   "execution_count": 44,
   "id": "1629a29b",
   "metadata": {},
   "outputs": [
    {
     "data": {
      "image/png": "[encoded data removed]",
      "text/plain": [
       "<Figure size 432x288 with 1 Axes>"
      ]
     },
     "metadata": {
      "needs_background": "light"
     },
     "output_type": "display_data"
    }
   ],
   "source": [
    "import matplotlib.pyplot as plt\n",
    "calories = list(map(int, calories))\n",
    "plt.hist(calories, bins = 100);"
   ]
  },
  {
   "cell_type": "code",
   "execution_count": 45,
   "id": "7ccb6a10",
   "metadata": {},
   "outputs": [
    {
     "data": {
      "text/plain": [
       "8650"
      ]
     },
     "execution_count": 45,
     "metadata": {},
     "output_type": "execute_result"
    }
   ],
   "source": [
    "max(calories)"
   ]
  },
  {
   "cell_type": "code",
   "execution_count": 46,
   "id": "ee4457b3",
   "metadata": {},
   "outputs": [],
   "source": [
    "# \n",
    "\n",
    "all_diets = []\n",
    "for index, row in df_recipes.iterrows():\n",
    "    diets = []\n",
    "    if row[\"dairyFree\"]:\n",
    "        diets.append(\"dairyFree\")\n",
    "    if row[\"glutenFree\"]:\n",
    "        diets.append(\"glutenFree\")\n",
    "    if row[\"lowFodmap\"]:\n",
    "        diets.append(\"lowFodmap\")\n",
    "    if row[\"vegan\"]:\n",
    "        diets.append(\"vegan\")\n",
    "    if row[\"vegetarian\"]:\n",
    "        diets.append(\"vegetarian\")\n",
    "    all_diets.append(diets)"
   ]
  },
  {
   "cell_type": "code",
   "execution_count": 47,
   "id": "6ee37ad5",
   "metadata": {},
   "outputs": [],
   "source": [
    "df_recipes['diets'] = all_diets\n",
    "df_recipes = df_recipes.drop(columns=['dairyFree','glutenFree','lowFodmap','vegan','vegetarian'])\n",
    "df_recipes.to_csv('recipes.csv', index=False)"
   ]
  },
  {
   "cell_type": "code",
   "execution_count": 48,
   "id": "8222b9a2",
   "metadata": {},
   "outputs": [
    {
     "data": {
      "text/plain": [
       "0      1.4519\n",
       "1      2.6225\n",
       "2      0.4368\n",
       "3      0.8599\n",
       "4      0.9545\n",
       "        ...  \n",
       "947    1.0041\n",
       "948    0.5060\n",
       "949    1.2723\n",
       "950    1.1957\n",
       "951    2.8145\n",
       "Name: price, Length: 952, dtype: float64"
      ]
     },
     "execution_count": 48,
     "metadata": {},
     "output_type": "execute_result"
    }
   ],
   "source": [
    "df_recipes = pd.read_csv(\"recipes.csv\")\n",
    "df_recipes[\"price\"] = df_recipes[\"price\"]/100\n",
    "df_recipes[\"price\"]"
   ]
  },
  {
   "cell_type": "code",
   "execution_count": 49,
   "id": "781453da",
   "metadata": {},
   "outputs": [],
   "source": [
    "df_recipes.to_csv('recipes.csv', index=False)"
   ]
  },
  {
   "cell_type": "code",
   "execution_count": 53,
   "id": "3cb4d9d0",
   "metadata": {},
   "outputs": [],
   "source": [
    "df_recipes[\"diets\"] = df_recipes[\"diets\"].apply(eval)\n",
    "\n",
    "for index, row in df_recipes.iterrows():\n",
    "    row['diets'].append(\"none\")"
   ]
  },
  {
   "cell_type": "code",
   "execution_count": 54,
   "id": "9164fef9",
   "metadata": {},
   "outputs": [
    {
     "data": {
      "text/plain": [
       "0                         [dairyFree, glutenFree, none]\n",
       "1                         [dairyFree, glutenFree, none]\n",
       "2      [dairyFree, glutenFree, vegan, vegetarian, none]\n",
       "3              [dairyFree, glutenFree, lowFodmap, none]\n",
       "4                         [dairyFree, glutenFree, none]\n",
       "                             ...                       \n",
       "947                                  [glutenFree, none]\n",
       "948                                              [none]\n",
       "949                      [glutenFree, vegetarian, none]\n",
       "950                                   [dairyFree, none]\n",
       "951                                              [none]\n",
       "Name: diets, Length: 952, dtype: object"
      ]
     },
     "execution_count": 54,
     "metadata": {},
     "output_type": "execute_result"
    }
   ],
   "source": [
    "df_recipes[\"diets\"]"
   ]
  },
  {
   "cell_type": "code",
   "execution_count": 55,
   "id": "6d9ad5c3",
   "metadata": {},
   "outputs": [],
   "source": [
    "df_recipes[\"cuisines\"] = df_recipes[\"cuisines\"].apply(eval)\n",
    "df_recipes[\"dishTypes\"] = df_recipes[\"dishTypes\"].apply(eval)\n",
    "\n",
    "for index, row in df_recipes.iterrows():\n",
    "    row['cuisines'].append(\"none\")\n",
    "    row['dishTypes'].append(\"none\")"
   ]
  },
  {
   "cell_type": "code",
   "execution_count": 56,
   "id": "894f1dbb",
   "metadata": {},
   "outputs": [],
   "source": [
    "df_recipes.to_csv('recipes.csv', index=False)"
   ]
  },
  {
   "cell_type": "code",
   "execution_count": null,
   "id": "f2d4abb1",
   "metadata": {},
   "outputs": [],
   "source": []
  }
 ],
 "metadata": {
  "kernelspec": {
   "display_name": "Python 3 (ipykernel)",
   "language": "python",
   "name": "python3"
  },
  "language_info": {
   "codemirror_mode": {
    "name": "ipython",
    "version": 3
   },
   "file_extension": ".py",
   "mimetype": "text/x-python",
   "name": "python",
   "nbconvert_exporter": "python",
   "pygments_lexer": "ipython3",
   "version": "3.9.7"
  }
 },
 "nbformat": 4,
 "nbformat_minor": 5
}
