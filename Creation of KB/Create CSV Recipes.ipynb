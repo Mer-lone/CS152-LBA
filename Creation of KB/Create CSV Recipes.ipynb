{
 "cells": [
  {
   "cell_type": "code",
   "execution_count": 8,
   "id": "86a12d14",
   "metadata": {
    "scrolled": true
   },
   "outputs": [],
   "source": [
    "import requests\n",
    "import pandas as pd\n",
    "\n",
    "recipes_id = []\n",
    "recipes_title = []\n",
    "recipes_url = []\n",
    "recipes_minutes = []\n",
    "recipes_ingredients_id = []\n",
    "recipes_ingredients_name = []\n",
    "cuisines = []\n",
    "dairyFree = []\n",
    "glutenFree = []\n",
    "lowFodmap = []\n",
    "vegan = []\n",
    "vegetarian = []\n",
    "dishTypes = []\n",
    "prices = []\n",
    "\n",
    "for i in range(75): #maximum number of calls\n",
    "    response = requests.get(\"https://api.spoonacular.com/recipes/random?apiKey=233fe043f15d4a39921d2ab6af2a651d&number=100\")\n",
    "    response = response.json()\n",
    "    \n",
    "    for recipe in response[\"recipes\"]:\n",
    "        # only adding unique recipes\n",
    "        if recipe[\"id\"] not in recipes_id:\n",
    "            recipes_id.append(recipe[\"id\"])\n",
    "            recipes_title.append(recipe[\"title\"])\n",
    "            recipes_url.append(recipe[\"spoonacularSourceUrl\"])\n",
    "            recipes_minutes.append(recipe[\"readyInMinutes\"])\n",
    "            \n",
    "            cuisines.append(recipe[\"cuisines\"])\n",
    "            dairyFree.append(recipe[\"dairyFree\"])\n",
    "            glutenFree.append(recipe[\"glutenFree\"])\n",
    "            lowFodmap.append(recipe[\"lowFodmap\"])\n",
    "            vegan.append(recipe[\"vegan\"])\n",
    "            vegetarian.append(recipe[\"vegetarian\"])\n",
    "            dishTypes.append(recipe[\"dishTypes\"])\n",
    "            prices.append(recipe[\"pricePerServing\"])\n",
    "            \n",
    "            ingredients_name = []\n",
    "            ingredients_id = []\n",
    "            for ingredient in recipe[\"extendedIngredients\"]:\n",
    "                ingredients_name.append(ingredient[\"name\"])\n",
    "                ingredients_id.append(ingredient[\"id\"])\n",
    "            recipes_ingredients_name.append(ingredients_name)\n",
    "            recipes_ingredients_id.append(ingredients_id)"
   ]
  },
  {
   "cell_type": "code",
   "execution_count": 9,
   "id": "d2d4a646",
   "metadata": {},
   "outputs": [],
   "source": [
    "# creating dataframe\n",
    "df = pd.DataFrame({\"id\":recipes_id, \"title\": recipes_title, \"url\": recipes_url, \"minutes\":recipes_minutes, \n",
    "                   \"ingredients_ids\": recipes_ingredients_id, \"ingredients_names\": recipes_ingredients_name,\n",
    "                  \"cuisines\": cuisines, \"dairyFree\":dairyFree, \"glutenFree\":glutenFree, \"lowFodmap\":lowFodmap,\n",
    "                   \"vegan\": vegan, \"vegetarian\":vegetarian, \"dishTypes\":dishTypes, \"price\":prices})"
   ]
  },
  {
   "cell_type": "code",
   "execution_count": 10,
   "id": "20d66070",
   "metadata": {},
   "outputs": [
    {
     "data": {
      "text/html": [
       "<div>\n",
       "<style scoped>\n",
       "    .dataframe tbody tr th:only-of-type {\n",
       "        vertical-align: middle;\n",
       "    }\n",
       "\n",
       "    .dataframe tbody tr th {\n",
       "        vertical-align: top;\n",
       "    }\n",
       "\n",
       "    .dataframe thead th {\n",
       "        text-align: right;\n",
       "    }\n",
       "</style>\n",
       "<table border=\"1\" class=\"dataframe\">\n",
       "  <thead>\n",
       "    <tr style=\"text-align: right;\">\n",
       "      <th></th>\n",
       "      <th>id</th>\n",
       "      <th>title</th>\n",
       "      <th>url</th>\n",
       "      <th>minutes</th>\n",
       "      <th>ingredients_ids</th>\n",
       "      <th>ingredients_names</th>\n",
       "      <th>cuisines</th>\n",
       "      <th>dairyFree</th>\n",
       "      <th>glutenFree</th>\n",
       "      <th>lowFodmap</th>\n",
       "      <th>vegan</th>\n",
       "      <th>vegetarian</th>\n",
       "      <th>dishTypes</th>\n",
       "      <th>price</th>\n",
       "    </tr>\n",
       "  </thead>\n",
       "  <tbody>\n",
       "    <tr>\n",
       "      <th>0</th>\n",
       "      <td>639512</td>\n",
       "      <td>Citrus Arugula Salad with Seared Scallops</td>\n",
       "      <td>https://spoonacular.com/citrus-arugula-salad-w...</td>\n",
       "      <td>45</td>\n",
       "      <td>[11959, 9200, 11429, 10011205, 11291, 2047, 10...</td>\n",
       "      <td>[arugula, orange, radish, persian cucumber, gr...</td>\n",
       "      <td>[]</td>\n",
       "      <td>True</td>\n",
       "      <td>True</td>\n",
       "      <td>False</td>\n",
       "      <td>False</td>\n",
       "      <td>False</td>\n",
       "      <td>[side dish, salad]</td>\n",
       "      <td>145.19</td>\n",
       "    </tr>\n",
       "    <tr>\n",
       "      <th>1</th>\n",
       "      <td>638071</td>\n",
       "      <td>Chicken En Papillote With Basil and Cherry Tom...</td>\n",
       "      <td>https://spoonacular.com/chicken-en-papillote-w...</td>\n",
       "      <td>45</td>\n",
       "      <td>[1055062, 1102047, 4053, 11282, 11215, 14106, ...</td>\n",
       "      <td>[skinless boneless chicken breast, salt and pe...</td>\n",
       "      <td>[]</td>\n",
       "      <td>True</td>\n",
       "      <td>True</td>\n",
       "      <td>False</td>\n",
       "      <td>False</td>\n",
       "      <td>False</td>\n",
       "      <td>[]</td>\n",
       "      <td>262.25</td>\n",
       "    </tr>\n",
       "    <tr>\n",
       "      <th>2</th>\n",
       "      <td>716195</td>\n",
       "      <td>Spicy Indian-Style Hummus</td>\n",
       "      <td>https://spoonacular.com/spicy-indian-style-hum...</td>\n",
       "      <td>45</td>\n",
       "      <td>[1032035, 2031, 16056, 11156, 11216, 11297, 11...</td>\n",
       "      <td>[asafetida, cayenne, dried chickpeas, fresh ch...</td>\n",
       "      <td>[Middle Eastern]</td>\n",
       "      <td>True</td>\n",
       "      <td>True</td>\n",
       "      <td>False</td>\n",
       "      <td>True</td>\n",
       "      <td>True</td>\n",
       "      <td>[side dish]</td>\n",
       "      <td>43.68</td>\n",
       "    </tr>\n",
       "    <tr>\n",
       "      <th>3</th>\n",
       "      <td>664708</td>\n",
       "      <td>Vegetarian Spring Rolls With Garlic Lime Sauce</td>\n",
       "      <td>https://spoonacular.com/vegetarian-spring-roll...</td>\n",
       "      <td>45</td>\n",
       "      <td>[11250, 11124, 11216, 6175, 6175, 11603, 9159,...</td>\n",
       "      <td>[butter leaf lettuce, carrots, ginger, hoisin ...</td>\n",
       "      <td>[Vietnamese, Asian]</td>\n",
       "      <td>True</td>\n",
       "      <td>True</td>\n",
       "      <td>True</td>\n",
       "      <td>False</td>\n",
       "      <td>False</td>\n",
       "      <td>[side dish]</td>\n",
       "      <td>85.99</td>\n",
       "    </tr>\n",
       "    <tr>\n",
       "      <th>4</th>\n",
       "      <td>638808</td>\n",
       "      <td>Chocolate Almond Bark</td>\n",
       "      <td>https://spoonacular.com/chocolate-almond-bark-...</td>\n",
       "      <td>45</td>\n",
       "      <td>[12061, 2031, 10019904, 1012047, 6971]</td>\n",
       "      <td>[almonds, cayenne pepper, dark chocolate candy...</td>\n",
       "      <td>[]</td>\n",
       "      <td>True</td>\n",
       "      <td>True</td>\n",
       "      <td>False</td>\n",
       "      <td>False</td>\n",
       "      <td>False</td>\n",
       "      <td>[side dish]</td>\n",
       "      <td>95.45</td>\n",
       "    </tr>\n",
       "  </tbody>\n",
       "</table>\n",
       "</div>"
      ],
      "text/plain": [
       "       id                                              title  \\\n",
       "0  639512          Citrus Arugula Salad with Seared Scallops   \n",
       "1  638071  Chicken En Papillote With Basil and Cherry Tom...   \n",
       "2  716195                          Spicy Indian-Style Hummus   \n",
       "3  664708     Vegetarian Spring Rolls With Garlic Lime Sauce   \n",
       "4  638808                              Chocolate Almond Bark   \n",
       "\n",
       "                                                 url  minutes  \\\n",
       "0  https://spoonacular.com/citrus-arugula-salad-w...       45   \n",
       "1  https://spoonacular.com/chicken-en-papillote-w...       45   \n",
       "2  https://spoonacular.com/spicy-indian-style-hum...       45   \n",
       "3  https://spoonacular.com/vegetarian-spring-roll...       45   \n",
       "4  https://spoonacular.com/chocolate-almond-bark-...       45   \n",
       "\n",
       "                                     ingredients_ids  \\\n",
       "0  [11959, 9200, 11429, 10011205, 11291, 2047, 10...   \n",
       "1  [1055062, 1102047, 4053, 11282, 11215, 14106, ...   \n",
       "2  [1032035, 2031, 16056, 11156, 11216, 11297, 11...   \n",
       "3  [11250, 11124, 11216, 6175, 6175, 11603, 9159,...   \n",
       "4             [12061, 2031, 10019904, 1012047, 6971]   \n",
       "\n",
       "                                   ingredients_names             cuisines  \\\n",
       "0  [arugula, orange, radish, persian cucumber, gr...                   []   \n",
       "1  [skinless boneless chicken breast, salt and pe...                   []   \n",
       "2  [asafetida, cayenne, dried chickpeas, fresh ch...     [Middle Eastern]   \n",
       "3  [butter leaf lettuce, carrots, ginger, hoisin ...  [Vietnamese, Asian]   \n",
       "4  [almonds, cayenne pepper, dark chocolate candy...                   []   \n",
       "\n",
       "   dairyFree  glutenFree  lowFodmap  vegan  vegetarian           dishTypes  \\\n",
       "0       True        True      False  False       False  [side dish, salad]   \n",
       "1       True        True      False  False       False                  []   \n",
       "2       True        True      False   True        True         [side dish]   \n",
       "3       True        True       True  False       False         [side dish]   \n",
       "4       True        True      False  False       False         [side dish]   \n",
       "\n",
       "    price  \n",
       "0  145.19  \n",
       "1  262.25  \n",
       "2   43.68  \n",
       "3   85.99  \n",
       "4   95.45  "
      ]
     },
     "execution_count": 10,
     "metadata": {},
     "output_type": "execute_result"
    }
   ],
   "source": [
    "df.head()"
   ]
  },
  {
   "cell_type": "code",
   "execution_count": 11,
   "id": "d1d6d2ec",
   "metadata": {},
   "outputs": [],
   "source": [
    "df.to_csv(\"new_perfect_recipes.csv\")"
   ]
  },
  {
   "cell_type": "code",
   "execution_count": 12,
   "id": "c0ee26c0",
   "metadata": {},
   "outputs": [
    {
     "data": {
      "text/plain": [
       "952"
      ]
     },
     "execution_count": 12,
     "metadata": {},
     "output_type": "execute_result"
    }
   ],
   "source": [
    "len(df)"
   ]
  },
  {
   "cell_type": "code",
   "execution_count": 15,
   "id": "598e1c90",
   "metadata": {},
   "outputs": [
    {
     "data": {
      "image/png": "[encoded data removed]",
      "text/plain": [
       "<Figure size 432x288 with 1 Axes>"
      ]
     },
     "metadata": {
      "needs_background": "light"
     },
     "output_type": "display_data"
    }
   ],
   "source": [
    "import matplotlib.pyplot as plt\n",
    "plt.hist(prices, bins = 100);"
   ]
  },
  {
   "cell_type": "code",
   "execution_count": null,
   "id": "1c33a289",
   "metadata": {},
   "outputs": [],
   "source": []
  }
 ],
 "metadata": {
  "kernelspec": {
   "display_name": "Python 3 (ipykernel)",
   "language": "python",
   "name": "python3"
  },
  "language_info": {
   "codemirror_mode": {
    "name": "ipython",
    "version": 3
   },
   "file_extension": ".py",
   "mimetype": "text/x-python",
   "name": "python",
   "nbconvert_exporter": "python",
   "pygments_lexer": "ipython3",
   "version": "3.9.7"
  }
 },
 "nbformat": 4,
 "nbformat_minor": 5
}
